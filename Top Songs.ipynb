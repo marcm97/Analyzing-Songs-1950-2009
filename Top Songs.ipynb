{
 "cells": [
  {
   "cell_type": "markdown",
   "metadata": {},
   "source": [
    "- Get top songs from Billboard top 100\n",
    "- Use Spotify API to get Audio features and time for all the songs\n",
    "      - Look at trends over the years\n",
    "- Use Genius API to get lyrics of all the songs\n",
    "- Use NLP (bag of words maybe?) to see patterns in lyrics over the years; \n",
    "     -maybe make a word cloud\n",
    "     -% of unique words over the years\n",
    "- Shiny App?\n",
    "     \n",
    "     "
   ]
  },
  {
   "cell_type": "code",
   "execution_count": 19,
   "metadata": {},
   "outputs": [],
   "source": [
    "from requests import get\n",
    "import pandas as pd\n",
    "import re\n",
    "from bs4 import BeautifulSoup\n",
    "from time import sleep\n",
    "from random import randint\n",
    "from time import time\n",
    "from warnings import warn\n",
    "from IPython.core.display import clear_output\n",
    "import spotipy\n",
    "from spotipy.oauth2 import SpotifyClientCredentials"
   ]
  },
  {
   "cell_type": "markdown",
   "metadata": {},
   "source": [
    "# Web Scraping Billboard Top 100 (1950-2009)"
   ]
  },
  {
   "cell_type": "markdown",
   "metadata": {},
   "source": [
    "Initial years have 30-80 top songs /year\n",
    "' gets parsed as â€™  - did a find & replace in excel"
   ]
  },
  {
   "cell_type": "code",
   "execution_count": 9,
   "metadata": {},
   "outputs": [
    {
     "name": "stdout",
     "output_type": "stream",
     "text": [
      "<class 'bs4.element.ResultSet'>\n",
      "100\n"
     ]
    }
   ],
   "source": [
    "#Testing Connection\n",
    "response=get(\"http://billboardtop100of.com/1975-2/\")\n",
    "soup=BeautifulSoup(response.content,\"html.parser\")\n",
    "soup.title\n",
    "musicdata=soup.find_all(\"tr\")\n",
    "print(type(musicdata))\n",
    "print(len(musicdata))"
   ]
  },
  {
   "cell_type": "code",
   "execution_count": null,
   "metadata": {},
   "outputs": [
    {
     "name": "stdout",
     "output_type": "stream",
     "text": [
      "<title>1951 - Billboard Top 100</title>\n"
     ]
    }
   ],
   "source": [
    "#Getting Data\n",
    "years_url = [str(i) for i in range(1950,2010)]\n",
    "years=[]\n",
    "ranks=[]\n",
    "artists=[]\n",
    "songs=[]\n",
    "\n",
    "\n",
    "# Preparing the monitoring of the loop\n",
    "start_time = time()\n",
    "req = 0\n",
    "\n",
    "# For every year in the interval 1940-2016\n",
    "for year_url in years_url:\n",
    "\n",
    "    # Make a get request\n",
    "    response = get(\"http://billboardtop100of.com/\"+ year_url +\"-2/\")\n",
    "    \n",
    "\n",
    "    # Pause the loop\n",
    "    sleep(randint(8,15))\n",
    "\n",
    "    # Monitor the requests\n",
    "    req += 1\n",
    "    elapsed_time = time() - start_time\n",
    "    print('Req:{}; Frequency: {} req/s'.format(req, req/elapsed_time))\n",
    "    clear_output(wait = True)\n",
    "\n",
    "    # Throw a warning for non-200 status codes\n",
    "    if response.status_code != 200:\n",
    "        warn('Req: {}; Status code: {}'.format(req, response.status_code))\n",
    "\n",
    "    # Break the loop if the number of requests is greater than expected\n",
    "    if req > 7700:\n",
    "        warn('Number of requests was greater than expected.')  \n",
    "        break \n",
    "\n",
    "        # Parse the content of the request with BeautifulSoup\n",
    "    soup = BeautifulSoup(response.text, 'html.parser')\n",
    "    print(soup.title)\n",
    "        # Select all the 100 songs from each page\n",
    "    musicdata = soup.find_all(\"tr\")\n",
    "    \n",
    "    for data in musicdata:\n",
    "        year=soup.find(\"h1\",class_=\"entry-title\").text\n",
    "        years.append(year)\n",
    "    \n",
    "        rank=data.contents[1].text\n",
    "        ranks.append(rank)\n",
    "     \n",
    "        artist=data.contents[3].text\n",
    "        artists.append(artist)\n",
    "    \n",
    "        song=data.contents[5].text\n",
    "        songs.append(song)\n",
    "         "
   ]
  },
  {
   "cell_type": "code",
   "execution_count": null,
   "metadata": {},
   "outputs": [],
   "source": [
    "#Saving Data to DF\n",
    "df = pd.DataFrame({'year':years,\n",
    "                   'rank':ranks,\n",
    "                   'artist':artists,\n",
    "                   'song':songs})\n",
    "print(df.info())\n",
    "df\n",
    "df.to_csv('Top.csv')"
   ]
  },
  {
   "cell_type": "code",
   "execution_count": 21,
   "metadata": {},
   "outputs": [],
   "source": [
    "#Saving Data to csv file\n",
    "data=pd.read_csv(\"top.csv\")\n",
    "data1=data.iloc[0:1000]\n"
   ]
  },
  {
   "cell_type": "markdown",
   "metadata": {},
   "source": [
    "# Using Spotify API (through spotipy) to get audio features  (Incomplete)"
   ]
  },
  {
   "cell_type": "code",
   "execution_count": 23,
   "metadata": {},
   "outputs": [
    {
     "name": "stdout",
     "output_type": "stream",
     "text": [
      "spotify:track:1fhLgOJgIIZEsWWffk8ljs Gordon Jenkins and The Weavers\n",
      "spotify:track:3k5ycyXX5qsCjLd7R2vphp Nat King Cole\n",
      "spotify:track:7rRGujA12UJcRUz7DxUDwQ Anton Karas\n",
      "spotify:track:39Q20GZHKK0IK8oKkhfxiJ Gary and Bing Crosby\n",
      "spotify:track:33FdwvfiSBRbE2AQ4UehaR Gary and Bing Crosby\n",
      "spotify:track:68ZOKozM9xmlp1iwaQSwY7 Teresa Brewer\n",
      "spotify:track:5uEwpyOYHFGqme4WnVQhfs Guy Lombardo\n",
      "spotify:track:7Jf323ttHKUnPylFWiaGl3 Red Foley\n",
      "spotify:track:00vJeips2Rwr2qN1qODvyf Sammy Kaye\n",
      "spotify:track:0BhbE7LZQ2PpwvEGkrYug0 Sammy Kaye and Don Cornell\n"
     ]
    }
   ],
   "source": [
    "with open('SpotifyID.txt', 'r') as f:\n",
    "    client_id = f.read().replace('\\n','')\n",
    "with open('SpotifySecret.txt', 'r') as f:\n",
    "    client_secret = f.read().replace('\\n','')\n",
    "\n",
    "client_credentials_manager = SpotifyClientCredentials(client_id=client_id, client_secret=client_secret)\n",
    "sp = spotipy.Spotify(client_credentials_manager=client_credentials_manager)\n",
    "sp.trace=False\n",
    "count=0\n",
    "uris=[]\n",
    "for i in range(0,10):\n",
    "    artist=data1.loc[i,\"artist\"]\n",
    "    title=data1.loc[i,\"song\"]\n",
    "\n",
    "    search_querry = title + ' ' + artist\n",
    "    result = sp.search(search_querry)\n",
    "    \n",
    "    if(result[\"tracks\"][\"items\"]==[]):\n",
    "        search_querry2 = title\n",
    "        result2 = sp.search(search_querry2)\n",
    "        \n",
    "        \n",
    "        if(result2[\"tracks\"][\"items\"]==[]):\n",
    "            count=count+1\n",
    "            uri=\"error\"\n",
    "            print(\"error\",count)\n",
    "        else:\n",
    "            print(result2[\"tracks\"][\"items\"][0][\"uri\"],artist)\n",
    "            uri=result2[\"tracks\"][\"items\"][0][\"uri\"]\n",
    "    else:\n",
    "        print(result[\"tracks\"][\"items\"][0][\"uri\"],artist)\n",
    "        uri=result[\"tracks\"][\"items\"][0][\"uri\"]\n",
    "    \n",
    "           \n",
    "            "
   ]
  },
  {
   "cell_type": "markdown",
   "metadata": {},
   "source": [
    "# Using Genius API to get lyrics"
   ]
  },
  {
   "cell_type": "code",
   "execution_count": null,
   "metadata": {},
   "outputs": [],
   "source": []
  }
 ],
 "metadata": {
  "kernelspec": {
   "display_name": "Python 3",
   "language": "python",
   "name": "python3"
  },
  "language_info": {
   "codemirror_mode": {
    "name": "ipython",
    "version": 3
   },
   "file_extension": ".py",
   "mimetype": "text/x-python",
   "name": "python",
   "nbconvert_exporter": "python",
   "pygments_lexer": "ipython3",
   "version": "3.6.6"
  }
 },
 "nbformat": 4,
 "nbformat_minor": 2
}
