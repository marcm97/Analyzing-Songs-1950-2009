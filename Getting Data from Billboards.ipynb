{
 "cells": [
  {
   "cell_type": "code",
   "execution_count": 1,
   "metadata": {},
   "outputs": [],
   "source": [
    "from requests import get\n",
    "import pandas as pd\n",
    "from bs4 import BeautifulSoup\n",
    "from time import sleep\n",
    "from random import randint\n",
    "from time import time\n",
    "from warnings import warn\n",
    "from IPython.core.display import clear_output"
   ]
  },
  {
   "cell_type": "markdown",
   "metadata": {},
   "source": [
    "Getting Data"
   ]
  },
  {
   "cell_type": "code",
   "execution_count": 2,
   "metadata": {},
   "outputs": [
    {
     "name": "stdout",
     "output_type": "stream",
     "text": [
      "<title>2018 - Billboard Top 100</title>\n"
     ]
    }
   ],
   "source": [
    "years_url = [str(i) for i in range(1950,2019)]\n",
    "years=[]\n",
    "ranks=[]\n",
    "artists=[]\n",
    "songs=[]\n",
    "\n",
    "\n",
    "# Time\n",
    "start_time = time()\n",
    "req = 0\n",
    "\n",
    "# For every year in the interval 1950-2018\n",
    "for year_url in years_url:\n",
    "\n",
    "    # Make a get request\n",
    "    response = get(\"http://billboardtop100of.com/\"+ year_url +\"-2/\")\n",
    "    \n",
    "\n",
    "    # Pause the loop\n",
    "    sleep(randint(8,15))\n",
    "\n",
    "    # Monitor the requests\n",
    "    req += 1\n",
    "    elapsed_time = time() - start_time\n",
    "    print('Req:{}; Frequency: {} req/s'.format(req, req/elapsed_time))\n",
    "    clear_output(wait = True)\n",
    "        # Throw a warning for non-200 status codes\n",
    "    if response.status_code != 200:\n",
    "        warn('Req: {}; Status code: {}'.format(req, response.status_code))\n",
    "\n",
    "    # Parse the content of the request with BeautifulSoup\n",
    "    soup = BeautifulSoup(response.text, 'html.parser')\n",
    "    print(soup.title)\n",
    "    \n",
    "    # Select top 10 songs from each page\n",
    "    #2017 & 2018 had a different html layout\n",
    "    \n",
    "    if year_url not in [\"2017\",\"2018\"]:\n",
    "        musicdata = soup.find_all(\"tr\",limit = 10)\n",
    "\n",
    "        for data in musicdata:\n",
    "            years.append(soup.find(\"h1\",class_=\"entry-title\").text)\n",
    "\n",
    "            ranks.append(data.contents[1].text.strip().split(\"\\n\")[0])\n",
    "\n",
    "            artists.append(data.contents[3].text.strip().split(\"\\n\")[0])\n",
    "\n",
    "            songs.append(data.contents[5].text.strip().split(\"\\n\")[0])\n",
    "    \n",
    "    else:\n",
    "        for data in range(10):\n",
    "            years.append(year_url)\n",
    "            \n",
    "            ranks.append(data+1)\n",
    "            \n",
    "            artists.append(soup.find_all(\"div\",{\"class\":\"ye-chart-item__artist\"},limit = 10)[data].text)\n",
    "            \n",
    "            songs.append(soup.find_all(\"div\",{\"class\":\"ye-chart-item__title\"},limit = 10)[data].text)"
   ]
  },
  {
   "cell_type": "markdown",
   "metadata": {},
   "source": [
    "Saving lists to a dataframe"
   ]
  },
  {
   "cell_type": "code",
   "execution_count": 3,
   "metadata": {},
   "outputs": [],
   "source": [
    "df = pd.DataFrame({'Year':years,\n",
    "                   'Rank':ranks,\n",
    "                   'Artist':artists,\n",
    "                   'Song':songs})"
   ]
  },
  {
   "cell_type": "code",
   "execution_count": 4,
   "metadata": {},
   "outputs": [],
   "source": [
    "df[\"Year\"] = pd.to_numeric(df[\"Year\"])"
   ]
  },
  {
   "cell_type": "code",
   "execution_count": 7,
   "metadata": {},
   "outputs": [],
   "source": [
    "df.to_csv('Top_10_Songs_1950-2018.csv')"
   ]
  }
 ],
 "metadata": {
  "kernelspec": {
   "display_name": "Python 3",
   "language": "python",
   "name": "python3"
  },
  "language_info": {
   "codemirror_mode": {
    "name": "ipython",
    "version": 3
   },
   "file_extension": ".py",
   "mimetype": "text/x-python",
   "name": "python",
   "nbconvert_exporter": "python",
   "pygments_lexer": "ipython3",
   "version": "3.7.3"
  }
 },
 "nbformat": 4,
 "nbformat_minor": 2
}
